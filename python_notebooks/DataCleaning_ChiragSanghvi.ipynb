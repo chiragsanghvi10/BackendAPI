{
 "cells": [
  {
   "cell_type": "code",
   "execution_count": 1,
   "id": "e3c7eef2",
   "metadata": {},
   "outputs": [],
   "source": [
    "import pandas as pd \n",
    "import numpy as np\n",
    "import os\n",
    "import re"
   ]
  },
  {
   "cell_type": "code",
   "execution_count": 2,
   "id": "c45c1570",
   "metadata": {},
   "outputs": [],
   "source": [
    "df = pd.read_excel(\"data/translation-data.xlsx\")"
   ]
  },
  {
   "cell_type": "code",
   "execution_count": 3,
   "id": "3eb9059f",
   "metadata": {},
   "outputs": [
    {
     "data": {
      "text/html": [
       "<div>\n",
       "<style scoped>\n",
       "    .dataframe tbody tr th:only-of-type {\n",
       "        vertical-align: middle;\n",
       "    }\n",
       "\n",
       "    .dataframe tbody tr th {\n",
       "        vertical-align: top;\n",
       "    }\n",
       "\n",
       "    .dataframe thead th {\n",
       "        text-align: right;\n",
       "    }\n",
       "</style>\n",
       "<table border=\"1\" class=\"dataframe\">\n",
       "  <thead>\n",
       "    <tr style=\"text-align: right;\">\n",
       "      <th></th>\n",
       "      <th>English</th>\n",
       "      <th>German</th>\n",
       "    </tr>\n",
       "  </thead>\n",
       "  <tbody>\n",
       "    <tr>\n",
       "      <th>0</th>\n",
       "      <td>\"The mask with a grinning man's face appears c...</td>\n",
       "      <td>Die Maske mit grinsendem Männergesicht wirkt d...</td>\n",
       "    </tr>\n",
       "    <tr>\n",
       "      <th>1</th>\n",
       "      <td>The WSWS posted this comment on the slanderous...</td>\n",
       "      <td>Die WSWS hatte den folgenden Kommentar zu dies...</td>\n",
       "    </tr>\n",
       "    <tr>\n",
       "      <th>2</th>\n",
       "      <td>The Haitian manner of spelling 'vodou' was int...</td>\n",
       "      <td>\"Für diese Ausstellung wurde bewusst die haiti...</td>\n",
       "    </tr>\n",
       "    <tr>\n",
       "      <th>3</th>\n",
       "      <td>The database also records new manufacturers in...</td>\n",
       "      <td>Die Datenbank nimmt bei jeder neuen Herausgabe...</td>\n",
       "    </tr>\n",
       "    <tr>\n",
       "      <th>4</th>\n",
       "      <td>Medially this situation is hushed up with just...</td>\n",
       "      <td>Medial wird diese Situation, wenige Ausnahmen ...</td>\n",
       "    </tr>\n",
       "    <tr>\n",
       "      <th>...</th>\n",
       "      <td>...</td>\n",
       "      <td>...</td>\n",
       "    </tr>\n",
       "    <tr>\n",
       "      <th>95</th>\n",
       "      <td>You will then have some free time before the d...</td>\n",
       "      <td>Es wird auch einige Zeit zur freien Verfügung ...</td>\n",
       "    </tr>\n",
       "    <tr>\n",
       "      <th>96</th>\n",
       "      <td>Our grandchildren Saphia and Avia are visiting...</td>\n",
       "      <td>Unsere Enkelkinder Saphia und Avia sind bei de...</td>\n",
       "    </tr>\n",
       "    <tr>\n",
       "      <th>97</th>\n",
       "      <td>Fashion and advertising have ensured a lasting...</td>\n",
       "      <td>Mode und Werbung sorgen für ein dauerhaftes re...</td>\n",
       "    </tr>\n",
       "    <tr>\n",
       "      <th>98</th>\n",
       "      <td>Their caps are brown &lt;&lt;tag:ends /&gt;&gt; and streaked.</td>\n",
       "      <td>Der Oberkopf ist braun und gestreift.</td>\n",
       "    </tr>\n",
       "    <tr>\n",
       "      <th>99</th>\n",
       "      <td>Device for moulding foamed plastic articles. T...</td>\n",
       "      <td>Vorrichtung zum Giessen von Gegenständen aus g...</td>\n",
       "    </tr>\n",
       "  </tbody>\n",
       "</table>\n",
       "<p>100 rows × 2 columns</p>\n",
       "</div>"
      ],
      "text/plain": [
       "                                              English  \\\n",
       "0   \"The mask with a grinning man's face appears c...   \n",
       "1   The WSWS posted this comment on the slanderous...   \n",
       "2   The Haitian manner of spelling 'vodou' was int...   \n",
       "3   The database also records new manufacturers in...   \n",
       "4   Medially this situation is hushed up with just...   \n",
       "..                                                ...   \n",
       "95  You will then have some free time before the d...   \n",
       "96  Our grandchildren Saphia and Avia are visiting...   \n",
       "97  Fashion and advertising have ensured a lasting...   \n",
       "98  Their caps are brown <<tag:ends />> and streaked.   \n",
       "99  Device for moulding foamed plastic articles. T...   \n",
       "\n",
       "                                               German  \n",
       "0   Die Maske mit grinsendem Männergesicht wirkt d...  \n",
       "1   Die WSWS hatte den folgenden Kommentar zu dies...  \n",
       "2   \"Für diese Ausstellung wurde bewusst die haiti...  \n",
       "3   Die Datenbank nimmt bei jeder neuen Herausgabe...  \n",
       "4   Medial wird diese Situation, wenige Ausnahmen ...  \n",
       "..                                                ...  \n",
       "95  Es wird auch einige Zeit zur freien Verfügung ...  \n",
       "96  Unsere Enkelkinder Saphia und Avia sind bei de...  \n",
       "97  Mode und Werbung sorgen für ein dauerhaftes re...  \n",
       "98              Der Oberkopf ist braun und gestreift.  \n",
       "99  Vorrichtung zum Giessen von Gegenständen aus g...  \n",
       "\n",
       "[100 rows x 2 columns]"
      ]
     },
     "execution_count": 3,
     "metadata": {},
     "output_type": "execute_result"
    }
   ],
   "source": [
    "df"
   ]
  },
  {
   "cell_type": "code",
   "execution_count": 4,
   "id": "8de43b4b",
   "metadata": {},
   "outputs": [],
   "source": [
    "def remove_html_tags(text):\n",
    "    \"\"\"Remove html tags from a string\"\"\"\n",
    "    clean1 = re.compile('<<.*?>>')\n",
    "    clean2 = re.compile('<.*?>')\n",
    "    text = re.sub(clean1, '', text)\n",
    "    text = re.sub(clean2, '', text)\n",
    "    return text"
   ]
  },
  {
   "cell_type": "code",
   "execution_count": 5,
   "id": "084a392c",
   "metadata": {},
   "outputs": [],
   "source": [
    "def dequote(s):\n",
    "    \"\"\"\n",
    "    If a string has single or double quotes around it, remove them.\n",
    "    Make sure the pair of quotes match.\n",
    "    If a matching pair of quotes is not found,\n",
    "    or there are less than 2 characters, return the string unchanged.\n",
    "    \"\"\"\n",
    "    if (len(s) >= 2 and s[0] == s[-1]) and s.startswith((\"'\", '\"')):\n",
    "        return s[1:-1]\n",
    "    return s"
   ]
  },
  {
   "cell_type": "code",
   "execution_count": 6,
   "id": "fab177ab",
   "metadata": {},
   "outputs": [],
   "source": [
    "def replace_multiple_dots_spaces(text):\n",
    "    \"\"\"If a string has multiple dots or spaces, this replaces to single dot and single space\"\"\"\n",
    "    text = re.sub('\\.+', ' ', text)\n",
    "    text = re.sub(' +', ' ', text)\n",
    "    return text\n",
    "\n",
    "def replace_multiple_back_slash(text):\n",
    "    \"\"\"If a string has multiple back slash, this removes all\"\"\"\n",
    "    text = text.replace(\"\\\\\",\"\")\n",
    "    return text\n",
    "\n",
    "def replace_special_characters(text):\n",
    "    text = re.sub('\\„+', ' ', text)\n",
    "    return text"
   ]
  },
  {
   "cell_type": "code",
   "execution_count": 7,
   "id": "29cebdbb",
   "metadata": {},
   "outputs": [
    {
     "data": {
      "text/plain": [
       "'The text is from Et suk igennem verden går (A sigh throughout the world doth go), no.'"
      ]
     },
     "execution_count": 7,
     "metadata": {},
     "output_type": "execute_result"
    }
   ],
   "source": [
    "replace_multiple_back_slash(df.English[70])"
   ]
  },
  {
   "cell_type": "code",
   "execution_count": 8,
   "id": "fd829155",
   "metadata": {},
   "outputs": [],
   "source": [
    "# build the object \"CleanText\"\n",
    "class CleanText:\n",
    "    \n",
    "    def remove_html_tags(text):\n",
    "        \"\"\"Remove html tags from a string\"\"\"\n",
    "        clean1 = re.compile('<<.*?>>')\n",
    "        clean2 = re.compile('<.*?>')\n",
    "        text = re.sub(clean1, '', text)\n",
    "        text = re.sub(clean2, '', text)\n",
    "        return text\n",
    "\n",
    "    def dequote(text):\n",
    "        \"\"\"\n",
    "        If a string has single or double quotes around it, remove them.\n",
    "        Make sure the pair of quotes match.\n",
    "        If a matching pair of quotes is not found,\n",
    "        or there are less than 2 characters, return the string unchanged.\n",
    "        \"\"\"\n",
    "        if (len(text) >= 2 and text[0] == text[-1]) and text.startswith((\"'\", '\"')):\n",
    "            return text[1:-1]\n",
    "        return text\n",
    "    \n",
    "    def replace_multiple_dots_spaces(text):\n",
    "        \"\"\"If a string has multiple dots or spaces, this replaces to single dot and single space\"\"\"\n",
    "        text = re.sub('\\.+', ' ', text)\n",
    "        text = re.sub(' +', ' ', text)\n",
    "        return text\n",
    "\n",
    "    def replace_multiple_back_slash(text):\n",
    "        \"\"\"If a string has multiple back slash, this removes all\"\"\"\n",
    "        text = text.replace(\"\\\\\",\"\")\n",
    "        return text\n",
    "\n",
    "    def replace_special_characters(text):\n",
    "        text = re.sub('\\„+', ' ', text)\n",
    "        return text\n",
    "    \n",
    "    def clean_functions(text):\n",
    "        text = remove_html_tags(text)\n",
    "        text = dequote(text)\n",
    "        text = replace_multiple_back_slash(text)\n",
    "        text = replace_special_characters(text)\n",
    "        text = replace_multiple_dots_spaces(text)\n",
    "        return text.strip()"
   ]
  },
  {
   "cell_type": "code",
   "execution_count": 9,
   "id": "b8df38f3",
   "metadata": {},
   "outputs": [
    {
     "data": {
      "text/plain": [
       "'Der Text stammt aus Nr. 139 des Dänischen Gesangbuchs (1953), „Ein Seufzer durch die Welt geht\".'"
      ]
     },
     "execution_count": 9,
     "metadata": {},
     "output_type": "execute_result"
    }
   ],
   "source": [
    "df.German[70]"
   ]
  },
  {
   "cell_type": "code",
   "execution_count": 10,
   "id": "0b77f856",
   "metadata": {},
   "outputs": [
    {
     "data": {
      "text/plain": [
       "'Prior says the latent potential in Thailand is enormous'"
      ]
     },
     "execution_count": 10,
     "metadata": {},
     "output_type": "execute_result"
    }
   ],
   "source": [
    "text = df.English[89]\n",
    "CleanText.clean_functions(text)"
   ]
  },
  {
   "cell_type": "code",
   "execution_count": 11,
   "id": "708a24ca",
   "metadata": {},
   "outputs": [],
   "source": [
    "df['Clean_English'] = df['English'].apply(lambda x: CleanText.clean_functions(x))\n",
    "df['Clean_German'] = df['German'].apply(lambda x: CleanText.clean_functions(x))"
   ]
  },
  {
   "cell_type": "code",
   "execution_count": 12,
   "id": "7b887d6d",
   "metadata": {},
   "outputs": [],
   "source": [
    "df.drop([\"English\",\"German\"], axis=1, inplace=True)\n",
    "df.rename(columns={\"Clean_English\":\"English\",\"Clean_German\":\"German\"}, inplace=True)\n",
    "df.to_excel(\"CleanData.xlsx\", index=False)"
   ]
  },
  {
   "cell_type": "code",
   "execution_count": 13,
   "id": "6bd67d06",
   "metadata": {},
   "outputs": [],
   "source": [
    "new_df = pd.read_excel(\"data/CleanData.xlsx\")"
   ]
  },
  {
   "cell_type": "code",
   "execution_count": 14,
   "id": "c0629701",
   "metadata": {},
   "outputs": [
    {
     "data": {
      "text/html": [
       "<div>\n",
       "<style scoped>\n",
       "    .dataframe tbody tr th:only-of-type {\n",
       "        vertical-align: middle;\n",
       "    }\n",
       "\n",
       "    .dataframe tbody tr th {\n",
       "        vertical-align: top;\n",
       "    }\n",
       "\n",
       "    .dataframe thead th {\n",
       "        text-align: right;\n",
       "    }\n",
       "</style>\n",
       "<table border=\"1\" class=\"dataframe\">\n",
       "  <thead>\n",
       "    <tr style=\"text-align: right;\">\n",
       "      <th></th>\n",
       "      <th>English</th>\n",
       "      <th>German</th>\n",
       "    </tr>\n",
       "  </thead>\n",
       "  <tbody>\n",
       "    <tr>\n",
       "      <th>0</th>\n",
       "      <td>The mask with a grinning man's face appears ca...</td>\n",
       "      <td>Die Maske mit grinsendem Männergesicht wirkt d...</td>\n",
       "    </tr>\n",
       "    <tr>\n",
       "      <th>1</th>\n",
       "      <td>The WSWS posted this comment on the slanderous...</td>\n",
       "      <td>Die WSWS hatte den folgenden Kommentar zu dies...</td>\n",
       "    </tr>\n",
       "    <tr>\n",
       "      <th>2</th>\n",
       "      <td>The Haitian manner of spelling 'vodou' was int...</td>\n",
       "      <td>Für diese Ausstellung wurde bewusst die haitia...</td>\n",
       "    </tr>\n",
       "    <tr>\n",
       "      <th>3</th>\n",
       "      <td>The database also records new manufacturers in...</td>\n",
       "      <td>Die Datenbank nimmt bei jeder neuen Herausgabe...</td>\n",
       "    </tr>\n",
       "    <tr>\n",
       "      <th>4</th>\n",
       "      <td>Medially this situation is hushed up with just...</td>\n",
       "      <td>Medial wird diese Situation, wenige Ausnahmen ...</td>\n",
       "    </tr>\n",
       "    <tr>\n",
       "      <th>...</th>\n",
       "      <td>...</td>\n",
       "      <td>...</td>\n",
       "    </tr>\n",
       "    <tr>\n",
       "      <th>95</th>\n",
       "      <td>You will then have some free time before the d...</td>\n",
       "      <td>Es wird auch einige Zeit zur freien Verfügung ...</td>\n",
       "    </tr>\n",
       "    <tr>\n",
       "      <th>96</th>\n",
       "      <td>Our grandchildren Saphia and Avia are visiting...</td>\n",
       "      <td>Unsere Enkelkinder Saphia und Avia sind bei de...</td>\n",
       "    </tr>\n",
       "    <tr>\n",
       "      <th>97</th>\n",
       "      <td>Fashion and advertising have ensured a lasting...</td>\n",
       "      <td>Mode und Werbung sorgen für ein dauerhaftes re...</td>\n",
       "    </tr>\n",
       "    <tr>\n",
       "      <th>98</th>\n",
       "      <td>Their caps are brown and streaked</td>\n",
       "      <td>Der Oberkopf ist braun und gestreift</td>\n",
       "    </tr>\n",
       "    <tr>\n",
       "      <th>99</th>\n",
       "      <td>Device for moulding foamed plastic articles Th...</td>\n",
       "      <td>Vorrichtung zum Giessen von Gegenständen aus g...</td>\n",
       "    </tr>\n",
       "  </tbody>\n",
       "</table>\n",
       "<p>100 rows × 2 columns</p>\n",
       "</div>"
      ],
      "text/plain": [
       "                                              English  \\\n",
       "0   The mask with a grinning man's face appears ca...   \n",
       "1   The WSWS posted this comment on the slanderous...   \n",
       "2   The Haitian manner of spelling 'vodou' was int...   \n",
       "3   The database also records new manufacturers in...   \n",
       "4   Medially this situation is hushed up with just...   \n",
       "..                                                ...   \n",
       "95  You will then have some free time before the d...   \n",
       "96  Our grandchildren Saphia and Avia are visiting...   \n",
       "97  Fashion and advertising have ensured a lasting...   \n",
       "98                  Their caps are brown and streaked   \n",
       "99  Device for moulding foamed plastic articles Th...   \n",
       "\n",
       "                                               German  \n",
       "0   Die Maske mit grinsendem Männergesicht wirkt d...  \n",
       "1   Die WSWS hatte den folgenden Kommentar zu dies...  \n",
       "2   Für diese Ausstellung wurde bewusst die haitia...  \n",
       "3   Die Datenbank nimmt bei jeder neuen Herausgabe...  \n",
       "4   Medial wird diese Situation, wenige Ausnahmen ...  \n",
       "..                                                ...  \n",
       "95  Es wird auch einige Zeit zur freien Verfügung ...  \n",
       "96  Unsere Enkelkinder Saphia und Avia sind bei de...  \n",
       "97  Mode und Werbung sorgen für ein dauerhaftes re...  \n",
       "98               Der Oberkopf ist braun und gestreift  \n",
       "99  Vorrichtung zum Giessen von Gegenständen aus g...  \n",
       "\n",
       "[100 rows x 2 columns]"
      ]
     },
     "execution_count": 14,
     "metadata": {},
     "output_type": "execute_result"
    }
   ],
   "source": [
    "new_df"
   ]
  },
  {
   "cell_type": "code",
   "execution_count": null,
   "id": "7f0c86c5",
   "metadata": {},
   "outputs": [],
   "source": []
  },
  {
   "cell_type": "code",
   "execution_count": null,
   "id": "f5fa142d",
   "metadata": {},
   "outputs": [],
   "source": []
  },
  {
   "cell_type": "code",
   "execution_count": null,
   "id": "3eff7c95",
   "metadata": {},
   "outputs": [],
   "source": []
  }
 ],
 "metadata": {
  "kernelspec": {
   "display_name": "Python 3 (ipykernel)",
   "language": "python",
   "name": "python3"
  },
  "language_info": {
   "codemirror_mode": {
    "name": "ipython",
    "version": 3
   },
   "file_extension": ".py",
   "mimetype": "text/x-python",
   "name": "python",
   "nbconvert_exporter": "python",
   "pygments_lexer": "ipython3",
   "version": "3.9.12"
  }
 },
 "nbformat": 4,
 "nbformat_minor": 5
}
